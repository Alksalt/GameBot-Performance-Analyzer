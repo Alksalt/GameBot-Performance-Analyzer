{
 "cells": [
  {
   "cell_type": "code",
   "execution_count": null,
   "id": "1667d4ce",
   "metadata": {},
   "outputs": [],
   "source": [
    "# Import necessary libraries\n",
    "import pandas as pd\n",
    "import numpy as np\n",
    "import time\n",
    "from matplotlib import pyplot as plt\n",
    "import seaborn as sns"
   ]
  },
  {
   "cell_type": "code",
   "execution_count": null,
   "id": "f6cf3485",
   "metadata": {},
   "outputs": [],
   "source": [
    "# Load the dataset\n",
    "df = pd.read_csv('/Users/alt/Library/CloudStorage/OneDrive-Personal/Portfolio/Portfolio/python_opp_games/game_summary.csv')"
   ]
  },
  {
   "cell_type": "code",
   "execution_count": 3,
   "id": "d92d3cce",
   "metadata": {},
   "outputs": [
    {
     "data": {
      "application/vnd.microsoft.datawrangler.viewer.v0+json": {
       "columns": [
        {
         "name": "index",
         "rawType": "int64",
         "type": "integer"
        },
        {
         "name": "Player",
         "rawType": "object",
         "type": "string"
        },
        {
         "name": "Score",
         "rawType": "int64",
         "type": "integer"
        },
        {
         "name": "Wrong",
         "rawType": "int64",
         "type": "integer"
        },
        {
         "name": "Fixed_total",
         "rawType": "int64",
         "type": "integer"
        },
        {
         "name": "Attempted",
         "rawType": "int64",
         "type": "integer"
        },
        {
         "name": "Accuracy_fixed",
         "rawType": "float64",
         "type": "float"
        },
        {
         "name": "Accuracy_attempted",
         "rawType": "float64",
         "type": "float"
        },
        {
         "name": "Max_streak",
         "rawType": "int64",
         "type": "integer"
        },
        {
         "name": "Difficulty",
         "rawType": "object",
         "type": "string"
        },
        {
         "name": "Date",
         "rawType": "object",
         "type": "string"
        },
        {
         "name": "Completed",
         "rawType": "bool",
         "type": "boolean"
        }
       ],
       "ref": "127ab8c7-9e64-4f1c-a20b-9a1e07237a2b",
       "rows": [
        [
         "18346",
         "SmartBot14",
         "7",
         "3",
         "10",
         "10",
         "0.7",
         "0.7",
         "3",
         "medium",
         "2025-07-03 20:08:00",
         "True"
        ],
        [
         "19836",
         "SmartBot14",
         "7",
         "3",
         "10",
         "10",
         "0.7",
         "0.7",
         "7",
         "easy",
         "2025-07-03 20:09:11",
         "True"
        ],
        [
         "19198",
         "SmartBot10",
         "8",
         "2",
         "10",
         "10",
         "0.8",
         "0.8",
         "6",
         "medium",
         "2025-07-03 20:08:40",
         "True"
        ],
        [
         "17534",
         "SmartBot2",
         "8",
         "2",
         "10",
         "10",
         "0.8",
         "0.8",
         "4",
         "medium",
         "2025-07-03 20:07:24",
         "True"
        ],
        [
         "23521",
         "SmartBot18",
         "4",
         "3",
         "10",
         "8",
         "0.4",
         "0.5",
         "2",
         "medium",
         "2025-07-03 20:38:53",
         "False"
        ]
       ],
       "shape": {
        "columns": 11,
        "rows": 5
       }
      },
      "text/html": [
       "<div>\n",
       "<style scoped>\n",
       "    .dataframe tbody tr th:only-of-type {\n",
       "        vertical-align: middle;\n",
       "    }\n",
       "\n",
       "    .dataframe tbody tr th {\n",
       "        vertical-align: top;\n",
       "    }\n",
       "\n",
       "    .dataframe thead th {\n",
       "        text-align: right;\n",
       "    }\n",
       "</style>\n",
       "<table border=\"1\" class=\"dataframe\">\n",
       "  <thead>\n",
       "    <tr style=\"text-align: right;\">\n",
       "      <th></th>\n",
       "      <th>Player</th>\n",
       "      <th>Score</th>\n",
       "      <th>Wrong</th>\n",
       "      <th>Fixed_total</th>\n",
       "      <th>Attempted</th>\n",
       "      <th>Accuracy_fixed</th>\n",
       "      <th>Accuracy_attempted</th>\n",
       "      <th>Max_streak</th>\n",
       "      <th>Difficulty</th>\n",
       "      <th>Date</th>\n",
       "      <th>Completed</th>\n",
       "    </tr>\n",
       "  </thead>\n",
       "  <tbody>\n",
       "    <tr>\n",
       "      <th>18346</th>\n",
       "      <td>SmartBot14</td>\n",
       "      <td>7</td>\n",
       "      <td>3</td>\n",
       "      <td>10</td>\n",
       "      <td>10</td>\n",
       "      <td>0.7</td>\n",
       "      <td>0.7</td>\n",
       "      <td>3</td>\n",
       "      <td>medium</td>\n",
       "      <td>2025-07-03 20:08:00</td>\n",
       "      <td>True</td>\n",
       "    </tr>\n",
       "    <tr>\n",
       "      <th>19836</th>\n",
       "      <td>SmartBot14</td>\n",
       "      <td>7</td>\n",
       "      <td>3</td>\n",
       "      <td>10</td>\n",
       "      <td>10</td>\n",
       "      <td>0.7</td>\n",
       "      <td>0.7</td>\n",
       "      <td>7</td>\n",
       "      <td>easy</td>\n",
       "      <td>2025-07-03 20:09:11</td>\n",
       "      <td>True</td>\n",
       "    </tr>\n",
       "    <tr>\n",
       "      <th>19198</th>\n",
       "      <td>SmartBot10</td>\n",
       "      <td>8</td>\n",
       "      <td>2</td>\n",
       "      <td>10</td>\n",
       "      <td>10</td>\n",
       "      <td>0.8</td>\n",
       "      <td>0.8</td>\n",
       "      <td>6</td>\n",
       "      <td>medium</td>\n",
       "      <td>2025-07-03 20:08:40</td>\n",
       "      <td>True</td>\n",
       "    </tr>\n",
       "    <tr>\n",
       "      <th>17534</th>\n",
       "      <td>SmartBot2</td>\n",
       "      <td>8</td>\n",
       "      <td>2</td>\n",
       "      <td>10</td>\n",
       "      <td>10</td>\n",
       "      <td>0.8</td>\n",
       "      <td>0.8</td>\n",
       "      <td>4</td>\n",
       "      <td>medium</td>\n",
       "      <td>2025-07-03 20:07:24</td>\n",
       "      <td>True</td>\n",
       "    </tr>\n",
       "    <tr>\n",
       "      <th>23521</th>\n",
       "      <td>SmartBot18</td>\n",
       "      <td>4</td>\n",
       "      <td>3</td>\n",
       "      <td>10</td>\n",
       "      <td>8</td>\n",
       "      <td>0.4</td>\n",
       "      <td>0.5</td>\n",
       "      <td>2</td>\n",
       "      <td>medium</td>\n",
       "      <td>2025-07-03 20:38:53</td>\n",
       "      <td>False</td>\n",
       "    </tr>\n",
       "  </tbody>\n",
       "</table>\n",
       "</div>"
      ],
      "text/plain": [
       "           Player  Score  Wrong  Fixed_total  Attempted  Accuracy_fixed  \\\n",
       "18346  SmartBot14      7      3           10         10             0.7   \n",
       "19836  SmartBot14      7      3           10         10             0.7   \n",
       "19198  SmartBot10      8      2           10         10             0.8   \n",
       "17534   SmartBot2      8      2           10         10             0.8   \n",
       "23521  SmartBot18      4      3           10          8             0.4   \n",
       "\n",
       "       Accuracy_attempted  Max_streak Difficulty                 Date  \\\n",
       "18346                 0.7           3     medium  2025-07-03 20:08:00   \n",
       "19836                 0.7           7       easy  2025-07-03 20:09:11   \n",
       "19198                 0.8           6     medium  2025-07-03 20:08:40   \n",
       "17534                 0.8           4     medium  2025-07-03 20:07:24   \n",
       "23521                 0.5           2     medium  2025-07-03 20:38:53   \n",
       "\n",
       "       Completed  \n",
       "18346       True  \n",
       "19836       True  \n",
       "19198       True  \n",
       "17534       True  \n",
       "23521      False  "
      ]
     },
     "execution_count": 3,
     "metadata": {},
     "output_type": "execute_result"
    }
   ],
   "source": [
    "df.sample(5)"
   ]
  },
  {
   "cell_type": "code",
   "execution_count": null,
   "id": "386f3a75",
   "metadata": {},
   "outputs": [],
   "source": [
    "rows, columns = df.shape"
   ]
  },
  {
   "cell_type": "code",
   "execution_count": null,
   "id": "d8ca1556",
   "metadata": {},
   "outputs": [
    {
     "data": {
      "application/vnd.microsoft.datawrangler.viewer.v0+json": {
       "columns": [
        {
         "name": "index",
         "rawType": "object",
         "type": "string"
        },
        {
         "name": "Score",
         "rawType": "float64",
         "type": "float"
        },
        {
         "name": "Wrong",
         "rawType": "float64",
         "type": "float"
        },
        {
         "name": "Fixed_total",
         "rawType": "float64",
         "type": "float"
        },
        {
         "name": "Attempted",
         "rawType": "float64",
         "type": "float"
        },
        {
         "name": "Accuracy_fixed",
         "rawType": "float64",
         "type": "float"
        },
        {
         "name": "Accuracy_attempted",
         "rawType": "float64",
         "type": "float"
        },
        {
         "name": "Max_streak",
         "rawType": "float64",
         "type": "float"
        }
       ],
       "ref": "941d3300-ef5c-4c0b-b8dc-3451dfb2b038",
       "rows": [
        [
         "count",
         "25010.0",
         "25010.0",
         "25010.0",
         "25010.0",
         "25010.0",
         "25010.0",
         "25010.0"
        ],
        [
         "mean",
         "6.01811275489804",
         "1.9730107956817273",
         "10.0",
         "8.460095961615353",
         "0.6018112754898041",
         "0.6519644142343064",
         "4.581287485005998"
        ],
        [
         "std",
         "2.978972483448272",
         "0.8902505124584659",
         "0.0",
         "2.2215513332509285",
         "0.29789724834482784",
         "0.2506949346736751",
         "2.7020698133948877"
        ],
        [
         "min",
         "0.0",
         "0.0",
         "10.0",
         "3.0",
         "0.0",
         "0.0",
         "0.0"
        ],
        [
         "25%",
         "4.0",
         "2.0",
         "10.0",
         "7.0",
         "0.4",
         "0.5",
         "3.0"
        ],
        [
         "50%",
         "7.0",
         "2.0",
         "10.0",
         "10.0",
         "0.7",
         "0.7",
         "4.0"
        ],
        [
         "75%",
         "8.0",
         "3.0",
         "10.0",
         "10.0",
         "0.8",
         "0.8",
         "6.0"
        ],
        [
         "max",
         "10.0",
         "4.0",
         "10.0",
         "10.0",
         "1.0",
         "1.0",
         "10.0"
        ]
       ],
       "shape": {
        "columns": 7,
        "rows": 8
       }
      },
      "text/html": [
       "<div>\n",
       "<style scoped>\n",
       "    .dataframe tbody tr th:only-of-type {\n",
       "        vertical-align: middle;\n",
       "    }\n",
       "\n",
       "    .dataframe tbody tr th {\n",
       "        vertical-align: top;\n",
       "    }\n",
       "\n",
       "    .dataframe thead th {\n",
       "        text-align: right;\n",
       "    }\n",
       "</style>\n",
       "<table border=\"1\" class=\"dataframe\">\n",
       "  <thead>\n",
       "    <tr style=\"text-align: right;\">\n",
       "      <th></th>\n",
       "      <th>Score</th>\n",
       "      <th>Wrong</th>\n",
       "      <th>Fixed_total</th>\n",
       "      <th>Attempted</th>\n",
       "      <th>Accuracy_fixed</th>\n",
       "      <th>Accuracy_attempted</th>\n",
       "      <th>Max_streak</th>\n",
       "    </tr>\n",
       "  </thead>\n",
       "  <tbody>\n",
       "    <tr>\n",
       "      <th>count</th>\n",
       "      <td>25010.000000</td>\n",
       "      <td>25010.000000</td>\n",
       "      <td>25010.0</td>\n",
       "      <td>25010.000000</td>\n",
       "      <td>25010.000000</td>\n",
       "      <td>25010.000000</td>\n",
       "      <td>25010.000000</td>\n",
       "    </tr>\n",
       "    <tr>\n",
       "      <th>mean</th>\n",
       "      <td>6.018113</td>\n",
       "      <td>1.973011</td>\n",
       "      <td>10.0</td>\n",
       "      <td>8.460096</td>\n",
       "      <td>0.601811</td>\n",
       "      <td>0.651964</td>\n",
       "      <td>4.581287</td>\n",
       "    </tr>\n",
       "    <tr>\n",
       "      <th>std</th>\n",
       "      <td>2.978972</td>\n",
       "      <td>0.890251</td>\n",
       "      <td>0.0</td>\n",
       "      <td>2.221551</td>\n",
       "      <td>0.297897</td>\n",
       "      <td>0.250695</td>\n",
       "      <td>2.702070</td>\n",
       "    </tr>\n",
       "    <tr>\n",
       "      <th>min</th>\n",
       "      <td>0.000000</td>\n",
       "      <td>0.000000</td>\n",
       "      <td>10.0</td>\n",
       "      <td>3.000000</td>\n",
       "      <td>0.000000</td>\n",
       "      <td>0.000000</td>\n",
       "      <td>0.000000</td>\n",
       "    </tr>\n",
       "    <tr>\n",
       "      <th>25%</th>\n",
       "      <td>4.000000</td>\n",
       "      <td>2.000000</td>\n",
       "      <td>10.0</td>\n",
       "      <td>7.000000</td>\n",
       "      <td>0.400000</td>\n",
       "      <td>0.500000</td>\n",
       "      <td>3.000000</td>\n",
       "    </tr>\n",
       "    <tr>\n",
       "      <th>50%</th>\n",
       "      <td>7.000000</td>\n",
       "      <td>2.000000</td>\n",
       "      <td>10.0</td>\n",
       "      <td>10.000000</td>\n",
       "      <td>0.700000</td>\n",
       "      <td>0.700000</td>\n",
       "      <td>4.000000</td>\n",
       "    </tr>\n",
       "    <tr>\n",
       "      <th>75%</th>\n",
       "      <td>8.000000</td>\n",
       "      <td>3.000000</td>\n",
       "      <td>10.0</td>\n",
       "      <td>10.000000</td>\n",
       "      <td>0.800000</td>\n",
       "      <td>0.800000</td>\n",
       "      <td>6.000000</td>\n",
       "    </tr>\n",
       "    <tr>\n",
       "      <th>max</th>\n",
       "      <td>10.000000</td>\n",
       "      <td>4.000000</td>\n",
       "      <td>10.0</td>\n",
       "      <td>10.000000</td>\n",
       "      <td>1.000000</td>\n",
       "      <td>1.000000</td>\n",
       "      <td>10.000000</td>\n",
       "    </tr>\n",
       "  </tbody>\n",
       "</table>\n",
       "</div>"
      ],
      "text/plain": [
       "              Score         Wrong  Fixed_total     Attempted  Accuracy_fixed  \\\n",
       "count  25010.000000  25010.000000      25010.0  25010.000000    25010.000000   \n",
       "mean       6.018113      1.973011         10.0      8.460096        0.601811   \n",
       "std        2.978972      0.890251          0.0      2.221551        0.297897   \n",
       "min        0.000000      0.000000         10.0      3.000000        0.000000   \n",
       "25%        4.000000      2.000000         10.0      7.000000        0.400000   \n",
       "50%        7.000000      2.000000         10.0     10.000000        0.700000   \n",
       "75%        8.000000      3.000000         10.0     10.000000        0.800000   \n",
       "max       10.000000      4.000000         10.0     10.000000        1.000000   \n",
       "\n",
       "       Accuracy_attempted    Max_streak  \n",
       "count        25010.000000  25010.000000  \n",
       "mean             0.651964      4.581287  \n",
       "std              0.250695      2.702070  \n",
       "min              0.000000      0.000000  \n",
       "25%              0.500000      3.000000  \n",
       "50%              0.700000      4.000000  \n",
       "75%              0.800000      6.000000  \n",
       "max              1.000000     10.000000  "
      ]
     },
     "execution_count": 5,
     "metadata": {},
     "output_type": "execute_result"
    }
   ],
   "source": [
    "#Overall statistics of the dataset\n",
    "df.describe()"
   ]
  },
  {
   "cell_type": "markdown",
   "id": "ffaaed7a",
   "metadata": {},
   "source": [
    "### How many wins/defeats\n"
   ]
  },
  {
   "cell_type": "code",
   "execution_count": null,
   "id": "935b482d",
   "metadata": {},
   "outputs": [],
   "source": [
    "# Count of games played\n",
    "wins_defeats = df['Completed'].value_counts()\n",
    "wins_defeats.index = wins_defeats.index.map({True: 'Wins', False: 'Defeats'})\n",
    "\n",
    "wins = wins_defeats.get('Wins', 0)\n",
    "defeats = wins_defeats.get('Defeats', 0)\n",
    "\n",
    "if rows > 0:\n",
    "    prop_wins = round((wins / rows), 2)\n",
    "    prop_defeats = round((defeats / rows), 2)\n",
    "else:\n",
    "    prop_wins = prop_defeats = 0"
   ]
  },
  {
   "cell_type": "code",
   "execution_count": 7,
   "id": "53672ca0",
   "metadata": {},
   "outputs": [],
   "source": [
    "# Convert Series to DataFrame\n",
    "df_wins_defeats = wins_defeats.reset_index()\n",
    "df_wins_defeats.columns = ['Outcome', 'Count']"
   ]
  },
  {
   "cell_type": "code",
   "execution_count": 8,
   "id": "06393c2b",
   "metadata": {},
   "outputs": [],
   "source": [
    "#pastel theme\n",
    "sns.set_theme(style=\"whitegrid\", palette=\"pastel\")\n",
    "sns.set_context(\"notebook\")"
   ]
  },
  {
   "cell_type": "code",
   "execution_count": null,
   "id": "e6316c9c",
   "metadata": {},
   "outputs": [
    {
     "data": {
      "image/png": "[encoded data removed]",
      "text/plain": [
       "<Figure size 640x480 with 1 Axes>"
      ]
     },
     "metadata": {},
     "output_type": "display_data"
    }
   ],
   "source": [
    "# Create a bar plot for wins and defeats\n",
    "sns.barplot(data=df_wins_defeats, x='Outcome',y='Count')\n",
    "plt.title(\"Statistics of wins/defeats\", fontdict={'fontsize': 16, 'fontweight': 'bold'})\n",
    "\n",
    "plt.xlabel(\"Outcome\")\n",
    "plt.ylabel(\"Counts\")\n",
    "#plt.legend(title=\"Legend Title\")\n",
    "plt.tight_layout() \n",
    "plt.show()"
   ]
  },
  {
   "cell_type": "code",
   "execution_count": null,
   "id": "9b67e8e8",
   "metadata": {},
   "outputs": [
    {
     "name": "stdout",
     "output_type": "stream",
     "text": [
      "Win rate: 53%\n",
      "Defeat rate: 47%\n"
     ]
    }
   ],
   "source": [
    "# Print the win and defeat rates\n",
    "print(f\"Win rate: {prop_wins:.0%}\")\n",
    "print(f\"Defeat rate: {prop_defeats:.0%}\")"
   ]
  },
  {
   "cell_type": "code",
   "execution_count": null,
   "id": "fa43ed85",
   "metadata": {},
   "outputs": [
    {
     "data": {
      "image/png": "[encoded data removed]",
      "text/plain": [
       "<Figure size 640x480 with 1 Axes>"
      ]
     },
     "metadata": {},
     "output_type": "display_data"
    }
   ],
   "source": [
    "# Create a horizontal bar plot for win vs defeat proportion\n",
    "plt.barh(['Wins', 'Defeats'], [prop_wins, prop_defeats], color=['skyblue', 'red'])\n",
    "plt.xlabel('Proportion')\n",
    "plt.title('Win vs Defeat Proportion')\n",
    "plt.xlim(0, 1)\n",
    "plt.tight_layout()\n",
    "plt.show()"
   ]
  },
  {
   "cell_type": "markdown",
   "id": "6ab86ff5",
   "metadata": {},
   "source": [
    "### Count difficulty lvl \n"
   ]
  },
  {
   "cell_type": "code",
   "execution_count": null,
   "id": "9b1b1a9e",
   "metadata": {},
   "outputs": [],
   "source": [
    " # Count the occurrences of each difficulty level\n",
    "\n",
    "dif = df['Difficulty'].value_counts()\n",
    "\n",
    "easy_dif = dif.get('easy', 0)\n",
    "medium_dif = dif.get('medium', 0)\n",
    "hard_dif = dif.get('hard', 0)"
   ]
  },
  {
   "cell_type": "code",
   "execution_count": null,
   "id": "d4f6fe16",
   "metadata": {},
   "outputs": [],
   "source": [
    "# Convert Series to DataFrame\n",
    "dif_df = dif.reset_index()\n",
    "dif_df.columns = ['Difficulty', 'Count']"
   ]
  },
  {
   "cell_type": "code",
   "execution_count": null,
   "id": "0bb3f46b",
   "metadata": {},
   "outputs": [
    {
     "data": {
      "image/png": "[encoded data removed]",
      "text/plain": [
       "<Figure size 640x480 with 1 Axes>"
      ]
     },
     "metadata": {},
     "output_type": "display_data"
    }
   ],
   "source": [
    "# Create a bar plot for difficulty distribution\n",
    "ax = sns.barplot(data=dif_df, x='Difficulty',y='Count')\n",
    "for bar in ax.patches:\n",
    "    height = bar.get_height()\n",
    "    ax.text(\n",
    "        bar.get_x() + bar.get_width() / 2,\n",
    "        height, \n",
    "        f'{int(height):,}',\n",
    "        ha='center',\n",
    "        va='bottom',\n",
    "        fontsize=12,\n",
    "        fontweight='bold'\n",
    "    )\n",
    "\n",
    "plt.title(\"Distibution of difficulty\", fontdict={'fontsize': 16, 'fontweight': 'bold'})\n",
    "\n",
    "plt.xlabel(\"Difficulty\")\n",
    "plt.ylabel(\"Counts\")\n",
    "plt.ylim(0, 12000)\n",
    "plt.yticks(fontsize=12)\n",
    "#plt.legend(title=\"Legend Title\")\n",
    "plt.tight_layout() \n",
    "plt.show()"
   ]
  },
  {
   "cell_type": "code",
   "execution_count": null,
   "id": "2e35b013",
   "metadata": {},
   "outputs": [],
   "source": [
    "# Calculate the winrate for each difficulty level\n",
    "grouped_dif_winrate = df.groupby('Difficulty')['Completed'].mean().round(2).reset_index(name='Winrate')\n",
    "\n",
    "grouped_dif_winrate['Difficulty'] = pd.Categorical(\n",
    "    grouped_dif_winrate['Difficulty'],\n",
    "    categories=['easy', 'medium', 'hard'],\n",
    "    ordered=True\n",
    ")"
   ]
  },
  {
   "cell_type": "code",
   "execution_count": null,
   "id": "f3d61545",
   "metadata": {},
   "outputs": [
    {
     "data": {
      "image/png": "[encoded data removed]",
      "text/plain": [
       "<Figure size 640x480 with 1 Axes>"
      ]
     },
     "metadata": {},
     "output_type": "display_data"
    }
   ],
   "source": [
    "# Show the winrate for each difficulty level\n",
    "# Create a bar plot for winrate\n",
    "sns.barplot(data=grouped_dif_winrate,\n",
    "            x='Difficulty',\n",
    "            y='Winrate',\n",
    "            )\n",
    "plt.title('Winrate', fontdict={'fontsize': 16, 'fontweight': 'bold'})\n",
    "plt.xlabel('Difficulty')\n",
    "plt.ylabel('Percent of winrate')\n",
    "plt.ylim(0,1)\n",
    "plt.tight_layout() \n",
    "plt.show()"
   ]
  },
  {
   "cell_type": "code",
   "execution_count": null,
   "id": "0dbd783c",
   "metadata": {},
   "outputs": [],
   "source": [
    "# Create a DataFrame for difficulty and completion status\n",
    "\n",
    "grouped_dif_completed = df.groupby(['Difficulty', 'Completed']).size().reset_index(name='Count')\n",
    "grouped_dif_completed['Difficulty'] = pd.Categorical(\n",
    "    grouped_dif_completed['Difficulty'],\n",
    "    categories=['easy', 'medium', 'hard'],\n",
    "    ordered=True\n",
    ")\n"
   ]
  },
  {
   "cell_type": "code",
   "execution_count": null,
   "id": "19238c39",
   "metadata": {},
   "outputs": [
    {
     "data": {
      "image/png": "[encoded data removed]",
      "text/plain": [
       "<Figure size 640x480 with 1 Axes>"
      ]
     },
     "metadata": {},
     "output_type": "display_data"
    }
   ],
   "source": [
    "# Create a bar plot for game outcome by difficulty\n",
    "x = sns.barplot(\n",
    "    data=grouped_dif_completed,\n",
    "    x='Difficulty',\n",
    "    y='Count',\n",
    "    hue='Completed',     \n",
    "    palette='pastel'\n",
    ")\n",
    "\n",
    "plt.title(\"Game Outcome by Difficulty\", fontsize=16, fontweight='bold')\n",
    "plt.xlabel(\"Difficulty\")\n",
    "plt.ylabel(\"Number of Games\")\n",
    "plt.tight_layout()\n",
    "plt.show()"
   ]
  },
  {
   "cell_type": "code",
   "execution_count": null,
   "id": "e381dca6",
   "metadata": {},
   "outputs": [
    {
     "data": {
      "application/vnd.microsoft.datawrangler.viewer.v0+json": {
       "columns": [
        {
         "name": "Difficulty",
         "rawType": "object",
         "type": "string"
        },
        {
         "name": "Score",
         "rawType": "float64",
         "type": "float"
        }
       ],
       "ref": "ad8cef88-9283-457f-b56c-257cf1237f05",
       "rows": [
        [
         "easy",
         "8.44"
        ],
        [
         "hard",
         "3.11"
        ],
        [
         "medium",
         "6.36"
        ]
       ],
       "shape": {
        "columns": 1,
        "rows": 3
       }
      },
      "text/plain": [
       "Difficulty\n",
       "easy      8.44\n",
       "hard      3.11\n",
       "medium    6.36\n",
       "Name: Score, dtype: float64"
      ]
     },
     "execution_count": 19,
     "metadata": {},
     "output_type": "execute_result"
    }
   ],
   "source": [
    "# Calculate the average score for each difficulty level\n",
    "# Create a DataFrame for average score by difficulty\n",
    "grouped_dif_score = df.groupby('Difficulty')['Score'].mean().round(2)\n",
    "grouped_dif_score"
   ]
  },
  {
   "cell_type": "code",
   "execution_count": null,
   "id": "7d81c3d3",
   "metadata": {},
   "outputs": [],
   "source": [
    "# Aggregate statistics for each difficulty level\n",
    "# A DataFrame with multiple statistics for each difficulty level\n",
    "dif_agg = df.groupby('Difficulty').agg({\n",
    "    'Score':['mean', 'median', 'min', 'max'],\n",
    "    'Wrong': ['mean', 'median'],\n",
    "    'Accuracy_attempted': ['mean', 'median'],\n",
    "    'Attempted': ['mean', 'min', 'max'],\n",
    "    'Completed': ['mean', 'sum', 'count'],\n",
    "    'Max_streak': ['mean', 'median', 'min', 'max']})"
   ]
  },
  {
   "cell_type": "code",
   "execution_count": 27,
   "id": "59110a53",
   "metadata": {},
   "outputs": [
    {
     "data": {
      "application/vnd.microsoft.datawrangler.viewer.v0+json": {
       "columns": [
        {
         "name": "Difficulty",
         "rawType": "object",
         "type": "string"
        },
        {
         "name": "('Score', 'mean')",
         "rawType": "float64",
         "type": "float"
        },
        {
         "name": "('Score', 'median')",
         "rawType": "float64",
         "type": "float"
        },
        {
         "name": "('Score', 'min')",
         "rawType": "int64",
         "type": "integer"
        },
        {
         "name": "('Score', 'max')",
         "rawType": "int64",
         "type": "integer"
        },
        {
         "name": "('Wrong', 'mean')",
         "rawType": "float64",
         "type": "float"
        },
        {
         "name": "('Wrong', 'median')",
         "rawType": "float64",
         "type": "float"
        },
        {
         "name": "('Accuracy_attempted', 'mean')",
         "rawType": "float64",
         "type": "float"
        },
        {
         "name": "('Accuracy_attempted', 'median')",
         "rawType": "float64",
         "type": "float"
        },
        {
         "name": "('Attempted', 'mean')",
         "rawType": "float64",
         "type": "float"
        },
        {
         "name": "('Attempted', 'min')",
         "rawType": "int64",
         "type": "integer"
        },
        {
         "name": "('Attempted', 'max')",
         "rawType": "int64",
         "type": "integer"
        },
        {
         "name": "('Completed', 'mean')",
         "rawType": "float64",
         "type": "float"
        },
        {
         "name": "('Completed', 'sum')",
         "rawType": "int64",
         "type": "integer"
        },
        {
         "name": "('Completed', 'count')",
         "rawType": "int64",
         "type": "integer"
        },
        {
         "name": "('Max_streak', 'mean')",
         "rawType": "float64",
         "type": "float"
        },
        {
         "name": "('Max_streak', 'median')",
         "rawType": "float64",
         "type": "float"
        },
        {
         "name": "('Max_streak', 'min')",
         "rawType": "int64",
         "type": "integer"
        },
        {
         "name": "('Max_streak', 'max')",
         "rawType": "int64",
         "type": "integer"
        }
       ],
       "ref": "e81f2400-f4f4-4b1c-8378-3a2088c35d38",
       "rows": [
        [
         "easy",
         "8.44007618011155",
         "9.0",
         "1",
         "10",
         "1.5052373826690246",
         "1.0",
         "0.8449408243776356",
         "0.9",
         "9.974017140525099",
         "6",
         "10",
         "0.9712964222554754",
         "7140",
         "7351",
         "6.560740035369338",
         "6.0",
         "1",
         "10"
        ],
        [
         "hard",
         "3.1092643051771116",
         "3.0",
         "0",
         "10",
         "1.9559945504087193",
         "2.0",
         "0.4347261580381471",
         "0.5",
         "5.9993188010899186",
         "3",
         "10",
         "0.06594005449591281",
         "484",
         "7340",
         "2.5416893732970025",
         "2.0",
         "0",
         "10"
        ],
        [
         "medium",
         "6.36185676906677",
         "7.0",
         "0",
         "10",
         "2.318344800852796",
         "3.0",
         "0.6690163775559648",
         "0.7",
         "9.131989533869561",
         "4",
         "10",
         "0.5482120360500048",
         "5657",
         "10319",
         "4.621959492198856",
         "4.0",
         "0",
         "10"
        ]
       ],
       "shape": {
        "columns": 18,
        "rows": 3
       }
      },
      "text/html": [
       "<div>\n",
       "<style scoped>\n",
       "    .dataframe tbody tr th:only-of-type {\n",
       "        vertical-align: middle;\n",
       "    }\n",
       "\n",
       "    .dataframe tbody tr th {\n",
       "        vertical-align: top;\n",
       "    }\n",
       "\n",
       "    .dataframe thead tr th {\n",
       "        text-align: left;\n",
       "    }\n",
       "\n",
       "    .dataframe thead tr:last-of-type th {\n",
       "        text-align: right;\n",
       "    }\n",
       "</style>\n",
       "<table border=\"1\" class=\"dataframe\">\n",
       "  <thead>\n",
       "    <tr>\n",
       "      <th></th>\n",
       "      <th colspan=\"4\" halign=\"left\">Score</th>\n",
       "      <th colspan=\"2\" halign=\"left\">Wrong</th>\n",
       "      <th colspan=\"2\" halign=\"left\">Accuracy_attempted</th>\n",
       "      <th colspan=\"3\" halign=\"left\">Attempted</th>\n",
       "      <th colspan=\"3\" halign=\"left\">Completed</th>\n",
       "      <th colspan=\"4\" halign=\"left\">Max_streak</th>\n",
       "    </tr>\n",
       "    <tr>\n",
       "      <th></th>\n",
       "      <th>mean</th>\n",
       "      <th>median</th>\n",
       "      <th>min</th>\n",
       "      <th>max</th>\n",
       "      <th>mean</th>\n",
       "      <th>median</th>\n",
       "      <th>mean</th>\n",
       "      <th>median</th>\n",
       "      <th>mean</th>\n",
       "      <th>min</th>\n",
       "      <th>max</th>\n",
       "      <th>mean</th>\n",
       "      <th>sum</th>\n",
       "      <th>count</th>\n",
       "      <th>mean</th>\n",
       "      <th>median</th>\n",
       "      <th>min</th>\n",
       "      <th>max</th>\n",
       "    </tr>\n",
       "    <tr>\n",
       "      <th>Difficulty</th>\n",
       "      <th></th>\n",
       "      <th></th>\n",
       "      <th></th>\n",
       "      <th></th>\n",
       "      <th></th>\n",
       "      <th></th>\n",
       "      <th></th>\n",
       "      <th></th>\n",
       "      <th></th>\n",
       "      <th></th>\n",
       "      <th></th>\n",
       "      <th></th>\n",
       "      <th></th>\n",
       "      <th></th>\n",
       "      <th></th>\n",
       "      <th></th>\n",
       "      <th></th>\n",
       "      <th></th>\n",
       "    </tr>\n",
       "  </thead>\n",
       "  <tbody>\n",
       "    <tr>\n",
       "      <th>easy</th>\n",
       "      <td>8.440076</td>\n",
       "      <td>9.0</td>\n",
       "      <td>1</td>\n",
       "      <td>10</td>\n",
       "      <td>1.505237</td>\n",
       "      <td>1.0</td>\n",
       "      <td>0.844941</td>\n",
       "      <td>0.9</td>\n",
       "      <td>9.974017</td>\n",
       "      <td>6</td>\n",
       "      <td>10</td>\n",
       "      <td>0.971296</td>\n",
       "      <td>7140</td>\n",
       "      <td>7351</td>\n",
       "      <td>6.560740</td>\n",
       "      <td>6.0</td>\n",
       "      <td>1</td>\n",
       "      <td>10</td>\n",
       "    </tr>\n",
       "    <tr>\n",
       "      <th>hard</th>\n",
       "      <td>3.109264</td>\n",
       "      <td>3.0</td>\n",
       "      <td>0</td>\n",
       "      <td>10</td>\n",
       "      <td>1.955995</td>\n",
       "      <td>2.0</td>\n",
       "      <td>0.434726</td>\n",
       "      <td>0.5</td>\n",
       "      <td>5.999319</td>\n",
       "      <td>3</td>\n",
       "      <td>10</td>\n",
       "      <td>0.065940</td>\n",
       "      <td>484</td>\n",
       "      <td>7340</td>\n",
       "      <td>2.541689</td>\n",
       "      <td>2.0</td>\n",
       "      <td>0</td>\n",
       "      <td>10</td>\n",
       "    </tr>\n",
       "    <tr>\n",
       "      <th>medium</th>\n",
       "      <td>6.361857</td>\n",
       "      <td>7.0</td>\n",
       "      <td>0</td>\n",
       "      <td>10</td>\n",
       "      <td>2.318345</td>\n",
       "      <td>3.0</td>\n",
       "      <td>0.669016</td>\n",
       "      <td>0.7</td>\n",
       "      <td>9.131990</td>\n",
       "      <td>4</td>\n",
       "      <td>10</td>\n",
       "      <td>0.548212</td>\n",
       "      <td>5657</td>\n",
       "      <td>10319</td>\n",
       "      <td>4.621959</td>\n",
       "      <td>4.0</td>\n",
       "      <td>0</td>\n",
       "      <td>10</td>\n",
       "    </tr>\n",
       "  </tbody>\n",
       "</table>\n",
       "</div>"
      ],
      "text/plain": [
       "               Score                    Wrong        Accuracy_attempted  \\\n",
       "                mean median min max      mean median               mean   \n",
       "Difficulty                                                                \n",
       "easy        8.440076    9.0   1  10  1.505237    1.0           0.844941   \n",
       "hard        3.109264    3.0   0  10  1.955995    2.0           0.434726   \n",
       "medium      6.361857    7.0   0  10  2.318345    3.0           0.669016   \n",
       "\n",
       "                  Attempted         Completed              Max_streak         \\\n",
       "           median      mean min max      mean   sum  count       mean median   \n",
       "Difficulty                                                                     \n",
       "easy          0.9  9.974017   6  10  0.971296  7140   7351   6.560740    6.0   \n",
       "hard          0.5  5.999319   3  10  0.065940   484   7340   2.541689    2.0   \n",
       "medium        0.7  9.131990   4  10  0.548212  5657  10319   4.621959    4.0   \n",
       "\n",
       "                    \n",
       "           min max  \n",
       "Difficulty          \n",
       "easy         1  10  \n",
       "hard         0  10  \n",
       "medium       0  10  "
      ]
     },
     "execution_count": 27,
     "metadata": {},
     "output_type": "execute_result"
    }
   ],
   "source": [
    "dif_agg"
   ]
  },
  {
   "cell_type": "code",
   "execution_count": 40,
   "id": "499b545e",
   "metadata": {},
   "outputs": [
    {
     "name": "stderr",
     "output_type": "stream",
     "text": [
      "/var/folders/fj/8n7rcf2d6wjffyl_fphfsnl00000gn/T/ipykernel_10172/1562159666.py:3: FutureWarning: \n",
      "\n",
      "Passing `palette` without assigning `hue` is deprecated and will be removed in v0.14.0. Assign the `x` variable to `hue` and set `legend=False` for the same effect.\n",
      "\n",
      "  sns.boxenplot(data=df,\n",
      "/var/folders/fj/8n7rcf2d6wjffyl_fphfsnl00000gn/T/ipykernel_10172/1562159666.py:11: FutureWarning: \n",
      "\n",
      "Passing `palette` without assigning `hue` is deprecated and will be removed in v0.14.0. Assign the `x` variable to `hue` and set `legend=False` for the same effect.\n",
      "\n",
      "  sns.boxenplot(data=df,\n",
      "/var/folders/fj/8n7rcf2d6wjffyl_fphfsnl00000gn/T/ipykernel_10172/1562159666.py:19: FutureWarning: \n",
      "\n",
      "Passing `palette` without assigning `hue` is deprecated and will be removed in v0.14.0. Assign the `x` variable to `hue` and set `legend=False` for the same effect.\n",
      "\n",
      "  sns.boxenplot(data=df,\n",
      "/var/folders/fj/8n7rcf2d6wjffyl_fphfsnl00000gn/T/ipykernel_10172/1562159666.py:27: FutureWarning: \n",
      "\n",
      "Passing `palette` without assigning `hue` is deprecated and will be removed in v0.14.0. Assign the `x` variable to `hue` and set `legend=False` for the same effect.\n",
      "\n",
      "  sns.boxenplot(data=df,\n"
     ]
    },
    {
     "data": {
      "image/png": "[encoded data removed]",
      "text/plain": [
       "<Figure size 1400x1000 with 4 Axes>"
      ]
     },
     "metadata": {},
     "output_type": "display_data"
    }
   ],
   "source": [
    "fig, axes = plt.subplots(2 ,2, figsize=(14,10))\n",
    "\n",
    "sns.boxenplot(data=df,\n",
    "              x='Difficulty',\n",
    "              y='Score',\n",
    "              palette='pastel',\n",
    "              ax=axes[0,0]\n",
    "              )\n",
    "axes[0, 0].set_title('Score by Difficulty', fontsize=14, fontweight='bold')\n",
    "\n",
    "sns.boxenplot(data=df,\n",
    "              x='Difficulty',\n",
    "              y='Wrong',\n",
    "              palette='pastel',\n",
    "              ax=axes[0,1]\n",
    "              )\n",
    "axes[0, 1].set_title('Wrong answers by Difficulty', fontsize=14, fontweight='bold')\n",
    "\n",
    "sns.boxenplot(data=df,\n",
    "              x='Difficulty',\n",
    "              y='Attempted',\n",
    "              palette='pastel',\n",
    "              ax=axes[1,0]\n",
    "              )\n",
    "axes[1, 0].set_title('Attempted by Difficulty', fontsize=14, fontweight='bold')\n",
    "\n",
    "sns.boxenplot(data=df,\n",
    "              x='Difficulty',\n",
    "              y='Max_streak',\n",
    "              palette='pastel',\n",
    "              ax=axes[1,1]\n",
    "              )\n",
    "axes[1, 1].set_title('Max steak by Difficulty', fontsize=14, fontweight='bold')\n",
    "plt.tight_layout()\n",
    "plt.show()"
   ]
  },
  {
   "cell_type": "code",
   "execution_count": null,
   "id": "4d207217",
   "metadata": {},
   "outputs": [],
   "source": []
  }
 ],
 "metadata": {
  "kernelspec": {
   "display_name": "base",
   "language": "python",
   "name": "python3"
  },
  "language_info": {
   "codemirror_mode": {
    "name": "ipython",
    "version": 3
   },
   "file_extension": ".py",
   "mimetype": "text/x-python",
   "name": "python",
   "nbconvert_exporter": "python",
   "pygments_lexer": "ipython3",
   "version": "3.12.2"
  }
 },
 "nbformat": 4,
 "nbformat_minor": 5
}
